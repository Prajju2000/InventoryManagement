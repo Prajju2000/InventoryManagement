{
 "cells": [
  {
   "cell_type": "markdown",
   "id": "38986b9b",
   "metadata": {},
   "source": [
    "# Inventory Management System"
   ]
  },
  {
   "cell_type": "markdown",
   "id": "a0eb972a",
   "metadata": {},
   "source": [
    "## Import statements"
   ]
  },
  {
   "cell_type": "code",
   "execution_count": 1,
   "id": "7ce1289f",
   "metadata": {},
   "outputs": [],
   "source": [
    "import json\n",
    "import time"
   ]
  },
  {
   "cell_type": "markdown",
   "id": "408c9af4",
   "metadata": {},
   "source": [
    "### Updating the Inventory product Details\n"
   ]
  },
  {
   "cell_type": "code",
   "execution_count": 2,
   "id": "b1bf672f",
   "metadata": {},
   "outputs": [],
   "source": [
    "Record={}\n",
    "n=int(input(\"Enter the no.of products, you want to add to the inventory : \"))\n",
    "for i in range(0,n):\n",
    "    name=input(\"Enter the product name : \")\n",
    "    price=int(input(\"Enter the product price : \"))\n",
    "    shelf=int(input(\"Enter the shelf location : \"))\n",
    "    mfd=input(\"Enter the MFD : \")\n",
    "    exp=input(\"Enter the EXP : \")\n",
    "    d={n:{\"Name\":name,\"Price\":price,\"ShelfLocation\":shelf,\"MFD\":mfd,\"Exp\":exp}}\n",
    "    Record.update(d)\n",
    "    n=n+1\n"
   ]
  },
  {
   "cell_type": "markdown",
   "id": "2dadd631",
   "metadata": {},
   "source": [
    "### List of Inventory Products"
   ]
  },
  {
   "cell_type": "code",
   "execution_count": 3,
   "id": "2720efa3",
   "metadata": {},
   "outputs": [],
   "source": [
    "Product={\n",
    "    102320: { \"Name\" :'KitKat', \"Price\" :10, \"Quant\":40, \"MFD\":'10-5-2021', \"Exp\":'10-11-2021'},\n",
    "    102321: { \"Name\" :'KitKat', \"Price\" :20, \"Quant\":40, \"MFD\":'10-5-2021', \"Exp\":'10-11-2021'},\n",
    "    102322: { \"Name\" :'KitKat', \"Price\" :30, \"Quant\":40, \"MFD\":'10-5-2021', \"Exp\":'10-11-2021'},\n",
    "    102323: { \"Name\" :'KitKat', \"Price\" :40, \"Quant\":40, \"MFD\":'10-5-2021', \"Exp\":'10-11-2021'},\n",
    "    102324: { \"Name\" :'KitKat', \"Price\" :10, \"Quant\":40, \"MFD\":'10-5-2021', \"Exp\":'10-11-2021'},\n",
    "    102325: { \"Name\" :'Dairy Milk', \"Price\" :5, \"Quant\":40, \"MFD\":'10-5-2021', \"Exp\":'10-11-2021'},\n",
    "    102326: { \"Name\" :'Dairy Milk', \"Price\" :10, \"Quant\":40, \"MFD\":'10-5-2021', \"Exp\":'10-11-2021'},\n",
    "    102327: { \"Name\" :'Dairy Milk', \"Price\" :25, \"Quant\":40, \"MFD\":'10-5-2021', \"Exp\":'10-11-2021'},\n",
    "    102328: { \"Name\" :'Dairy Milk', \"Price\" :35, \"Quant\":40, \"MFD\":'10-5-2021', \"Exp\":'10-11-2021'},\n",
    "    102329: { \"Name\" :'Dairy Milk', \"Price\" :55, \"Quant\":40, \"MFD\":'10-5-2021', \"Exp\":'10-11-2021'},\n",
    "    102330: { \"Name\" :'Dairy Milk', \"Price\" :155, \"Quant\":40, \"MFD\":'10-5-2021', \"Exp\":'10-11-2021'},\n",
    "    102330: { \"Name\" :'Gems', \"Price\" :5, \"Quant\":40, \"MFD\":'10-5-2021', \"Exp\":'10-11-2021'},\n",
    "    102331: { \"Name\" :'Gems', \"Price\" :10, \"Quant\":40, \"MFD\":'10-5-2021', \"Exp\":'10-11-2021'},\n",
    "    102332: { \"Name\" :'Gems', \"Price\" :15, \"Quant\":40, \"MFD\":'10-5-2021', \"Exp\":'10-11-2021'},\n",
    "    102333: { \"Name\" :'Gems', \"Price\" :20, \"Quant\":40, \"MFD\":'10-5-2021', \"Exp\":'10-11-2021'},\n",
    "    102334: { \"Name\" :'Gems', \"Price\" :25, \"Quant\":40, \"MFD\":'10-5-2021', \"Exp\":'10-11-2021'},\n",
    "    102335: { \"Name\" :'Hot chocolate', \"Price\" :55, \"Quant\":40, \"MFD\":'10-5-2021', \"Exp\":'10-11-2021'},\n",
    "    102336: { \"Name\" :'Hot chocolate', \"Price\" :75, \"Quant\":40, \"MFD\":'10-5-2021', \"Exp\":'10-11-2021'},\n",
    "    102337: { \"Name\" :'Hot chocolate', \"Price\" :95, \"Quant\":40, \"MFD\":'10-5-2021', \"Exp\":'10-11-2021'},\n",
    "    102338: { \"Name\" :'Hot chocolate', \"Price\" :155, \"Quant\":40, \"MFD\":'10-5-2021', \"Exp\":'10-11-2021'},\n",
    "    102339: { \"Name\" :'Bar-One', \"Price\" :10, \"Quant\":40, \"MFD\":'10-5-2021', \"Exp\":'10-11-2021'},\n",
    "    102340: { \"Name\" :'Bar-One', \"Price\" :15, \"Quant\":40, \"MFD\":'10-5-2021', \"Exp\":'10-11-2021'},\n",
    "    102341: { \"Name\" :'Bar-One', \"Price\" :20, \"Quant\":40, \"MFD\":'10-5-2021', \"Exp\":'10-11-2021'},\n",
    "    102342: { \"Name\" :'Bar-One', \"Price\" :25, \"Quant\":40, \"MFD\":'10-5-2021', \"Exp\":'10-11-2021'},\n",
    "    102343: { \"Name\" :'Raffaello', \"Price\" :35, \"Quant\":40, \"MFD\":'10-5-2021', \"Exp\":'10-11-2021'},\n",
    "    102344: { \"Name\" :'Raffaello', \"Price\" :45, \"Quant\":40, \"MFD\":'10-5-2021', \"Exp\":'10-11-2021'},\n",
    "    102345: { \"Name\" :'Raffaello', \"Price\" :55, \"Quant\":40, \"MFD\":'10-5-2021', \"Exp\":'10-11-2021'},\n",
    "    102346: { \"Name\" :'Raffaello', \"Price\" :65, \"Quant\":40, \"MFD\":'10-5-2021', \"Exp\":'10-11-2021'},\n",
    "    102347: { \"Name\" :'Almond Bar', \"Price\" :35, \"Quant\":40, \"MFD\":'10-5-2021', \"Exp\":'10-11-2021'},\n",
    "    102348: { \"Name\" :'Almond Bar', \"Price\" :55, \"Quant\":40, \"MFD\":'10-5-2021', \"Exp\":'10-11-2021'},\n",
    "    102349: { \"Name\" :'Almond Bar', \"Price\" :85, \"Quant\":40, \"MFD\":'10-5-2021', \"Exp\":'10-11-2021'},\n",
    "    102350: { \"Name\" :'Almond Bar', \"Price\" :100, \"Quant\":40, \"MFD\":'10-5-2021', \"Exp\":'10-11-2021'},\n",
    "}"
   ]
  },
  {
   "cell_type": "code",
   "execution_count": 4,
   "id": "3ed7c00a",
   "metadata": {},
   "outputs": [],
   "source": [
    "js=json.dumps(Product)"
   ]
  },
  {
   "cell_type": "code",
   "execution_count": 5,
   "id": "98b86d7f",
   "metadata": {},
   "outputs": [],
   "source": [
    "fd=open('Product.json','w')\n",
    "fd.write(js)\n",
    "fd.close()"
   ]
  },
  {
   "cell_type": "code",
   "execution_count": 6,
   "id": "b71f4471",
   "metadata": {},
   "outputs": [],
   "source": [
    "fd = open(\"Product.json\",'r')\n",
    "txt=fd.read()\n",
    "fd.close()"
   ]
  },
  {
   "cell_type": "code",
   "execution_count": 15,
   "id": "e0af28b0",
   "metadata": {},
   "outputs": [],
   "source": [
    "Product=json.loads(txt)"
   ]
  },
  {
   "cell_type": "markdown",
   "id": "2c99351f",
   "metadata": {},
   "source": [
    "## Purchasing a product "
   ]
  },
  {
   "cell_type": "code",
   "execution_count": 23,
   "id": "6ceea458",
   "metadata": {},
   "outputs": [
    {
     "name": "stdout",
     "output_type": "stream",
     "text": [
      "Enter a Product ID between the range(102320-102350) : 102321\n",
      "KitKat\n",
      "20\n",
      "10-5-2021\n",
      "10-11-2021\n",
      "Enter the Product Quantity : 20\n",
      "\n",
      "      ******BILL******\n",
      "--------------------------------\n",
      "  Product ID :      102321\n",
      "  ProductName:      KitKat\n",
      "  Price      :      20\n",
      "--------------------------------\n",
      "TOTAL AMOUNT :      400\n",
      "--------------------------------\n"
     ]
    }
   ],
   "source": [
    "\n",
    "pid=input(\"Enter a Product ID between the range(102320-102350) : \")\n",
    "if(pid in Product):\n",
    "    price=Product[pid]['Price']\n",
    "    print(Product[pid]['Name'])\n",
    "    print(Product[pid]['Price'])\n",
    "    print(Product[pid]['MFD'])\n",
    "    print(Product[pid]['Exp'])\n",
    "    mfd=Product[pid]['MFD']\n",
    "    exp=Product[pid]['Exp']\n",
    "    quant=int(input(\"Enter the Product Quantity : \"))\n",
    "    Product[pid]['Quant']=int(Product[pid]['Quant'])-quant\n",
    "    amount=(quant*price)\n",
    "else:\n",
    "    print(\"*******************************\")\n",
    "    print(\"Please Enter a valid Product ID \")\n",
    "    print(\"*******************************\")\n",
    "\n",
    "print(\"\\n      ******BILL******\")\n",
    "print(\"--------------------------------\")\n",
    "print(\"  Product ID : \",end=\"     \")\n",
    "print( pid)\n",
    "print(\"  ProductName: \",end=\"     \")\n",
    "print(Product[pid]['Name'])\n",
    "print(\"  Price      : \",end=\"     \")\n",
    "print(price)\n",
    "print(\"--------------------------------\")\n",
    "print(\"TOTAL AMOUNT : \",end=\"     \")\n",
    "print(amount)\n",
    "print(\"--------------------------------\")\n"
   ]
  },
  {
   "cell_type": "markdown",
   "id": "41fd2ab9",
   "metadata": {},
   "source": [
    "## Updating the Inventory after Purchase "
   ]
  },
  {
   "cell_type": "code",
   "execution_count": 24,
   "id": "72c5546c",
   "metadata": {},
   "outputs": [],
   "source": [
    "js = json.dumps(Product)\n",
    "\n",
    "fd = open(\"Product.json\",'w')\n",
    "fd.write(js)\n",
    "fd.close()"
   ]
  },
  {
   "cell_type": "markdown",
   "id": "758641fe",
   "metadata": {},
   "source": [
    "## Sales history"
   ]
  },
  {
   "cell_type": "code",
   "execution_count": 25,
   "id": "958a7ded",
   "metadata": {},
   "outputs": [],
   "source": [
    "Sales = {1:{'Product' : pid, 'Quantity' : quant, 'Amount': Product[pid]['Price'] * quant},\n",
    "         2:{'Product' : pid, 'Quantity' : quant, 'Amount': Product[pid]['Price'] * quant},\n",
    "         3:{'Product' : pid, 'Quantity' : quant, 'Amount': Product[pid]['Price'] * quant},\n",
    "         4:{'Product' : pid, 'Quantity' : quant, 'Amount': Product[pid]['Price'] * quant}\n",
    "        }"
   ]
  },
  {
   "cell_type": "code",
   "execution_count": 26,
   "id": "391e348f",
   "metadata": {},
   "outputs": [],
   "source": [
    "sale = json.dumps(Sales)\n",
    "fd = open(\"Sales.json\",'w')\n",
    "fd.write(sale)\n",
    "fd.close()"
   ]
  },
  {
   "cell_type": "code",
   "execution_count": 27,
   "id": "363ef1fd",
   "metadata": {},
   "outputs": [
    {
     "data": {
      "text/plain": [
       "'{\"1\": {\"Product\": \"102321\", \"Quantity\": 20, \"Amount\": 400}, \"2\": {\"Product\": \"102321\", \"Quantity\": 20, \"Amount\": 400}, \"3\": {\"Product\": \"102321\", \"Quantity\": 20, \"Amount\": 400}, \"4\": {\"Product\": \"102321\", \"Quantity\": 20, \"Amount\": 400}}'"
      ]
     },
     "execution_count": 27,
     "metadata": {},
     "output_type": "execute_result"
    }
   ],
   "source": [
    "sale"
   ]
  },
  {
   "cell_type": "code",
   "execution_count": null,
   "id": "095b9863",
   "metadata": {},
   "outputs": [],
   "source": []
  }
 ],
 "metadata": {
  "kernelspec": {
   "display_name": "Python 3",
   "language": "python",
   "name": "python3"
  },
  "language_info": {
   "codemirror_mode": {
    "name": "ipython",
    "version": 3
   },
   "file_extension": ".py",
   "mimetype": "text/x-python",
   "name": "python",
   "nbconvert_exporter": "python",
   "pygments_lexer": "ipython3",
   "version": "3.8.8"
  }
 },
 "nbformat": 4,
 "nbformat_minor": 5
}
