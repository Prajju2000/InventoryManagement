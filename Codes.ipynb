{
 "cells": [
  {
   "cell_type": "markdown",
   "id": "38986b9b",
   "metadata": {},
   "source": [
    "# Inventory Management System"
   ]
  },
  {
   "cell_type": "markdown",
   "id": "bdbab364",
   "metadata": {},
   "source": [
    "## Import statements"
   ]
  },
  {
   "cell_type": "code",
   "execution_count": 1,
   "id": "f556f930",
   "metadata": {},
   "outputs": [],
   "source": [
    "import json\n",
    "import time"
   ]
  },
  {
   "cell_type": "markdown",
   "id": "ba3d293a",
   "metadata": {},
   "source": [
    "### Updating the Inventory product Details\n"
   ]
  },
  {
   "cell_type": "code",
   "execution_count": 2,
   "id": "8c9e1f49",
   "metadata": {},
   "outputs": [],
   "source": [
    "#Record={}\n",
    "#n=int(input(\"Enter the no.of products, you want to add to the inventory : \"))\n",
    "#for i in range(0,n):\n",
    "#    name=input(\"Enter the product name : \")\n",
    "#    price=int(input(\"Enter the product price : \"))\n",
    "#    shelf=int(input(\"Enter the shelf location : \"))\n",
    "#    mfd=input(\"Enter the MFD : \")\n",
    " #   exp=input(\"Enter the EXP : \")\n",
    "#    d={n:{\"Name\":name,\"Price\":price,\"ShelfLocation\":shelf,\"MFD\":mfd,\"Exp\":exp}}\n",
    "  #  Record.update(d)\n",
    "   # n=n+1\n"
   ]
  },
  {
   "cell_type": "code",
   "execution_count": 3,
   "id": "4b2defdb",
   "metadata": {},
   "outputs": [],
   "source": [
    "Product={\n",
    "    102320: { \"Name\" :'KitKat', \"Price\" :10, \"Quant\":40, \"MFD\":'10-5-2021', \"Exp\":'10-11-2021'},\n",
    "    102321: { \"Name\" :'KitKat', \"Price\" :20, \"Quant\":40, \"MFD\":'10-5-2021', \"Exp\":'10-11-2021'},\n",
    "    102322: { \"Name\" :'KitKat', \"Price\" :30, \"Quant\":40, \"MFD\":'10-5-2021', \"Exp\":'10-11-2021'},\n",
    "    102323: { \"Name\" :'KitKat', \"Price\" :40, \"Quant\":40, \"MFD\":'10-5-2021', \"Exp\":'10-11-2021'},\n",
    "    102324: { \"Name\" :'KitKat', \"Price\" :10, \"Quant\":40, \"MFD\":'10-5-2021', \"Exp\":'10-11-2021'},\n",
    "    102325: { \"Name\" :'Dairy Milk', \"Price\" :5, \"Quant\":40, \"MFD\":'10-5-2021', \"Exp\":'10-11-2021'},\n",
    "    102326: { \"Name\" :'Dairy Milk', \"Price\" :10, \"Quant\":40, \"MFD\":'10-5-2021', \"Exp\":'10-11-2021'},\n",
    "    102327: { \"Name\" :'Dairy Milk', \"Price\" :25, \"Quant\":40, \"MFD\":'10-5-2021', \"Exp\":'10-11-2021'},\n",
    "    102328: { \"Name\" :'Dairy Milk', \"Price\" :35, \"Quant\":40, \"MFD\":'10-5-2021', \"Exp\":'10-11-2021'},\n",
    "    102329: { \"Name\" :'Dairy Milk', \"Price\" :55, \"Quant\":40, \"MFD\":'10-5-2021', \"Exp\":'10-11-2021'},\n",
    "    102330: { \"Name\" :'Dairy Milk', \"Price\" :155, \"Quant\":40, \"MFD\":'10-5-2021', \"Exp\":'10-11-2021'},\n",
    "    102330: { \"Name\" :'Gems', \"Price\" :5, \"Quant\":40, \"MFD\":'10-5-2021', \"Exp\":'10-11-2021'},\n",
    "    102331: { \"Name\" :'Gems', \"Price\" :10, \"Quant\":40, \"MFD\":'10-5-2021', \"Exp\":'10-11-2021'},\n",
    "    102332: { \"Name\" :'Gems', \"Price\" :15, \"Quant\":40, \"MFD\":'10-5-2021', \"Exp\":'10-11-2021'},\n",
    "    102333: { \"Name\" :'Gems', \"Price\" :20, \"Quant\":40, \"MFD\":'10-5-2021', \"Exp\":'10-11-2021'},\n",
    "    102334: { \"Name\" :'Gems', \"Price\" :25, \"Quant\":40, \"MFD\":'10-5-2021', \"Exp\":'10-11-2021'},\n",
    "    102335: { \"Name\" :'Hot chocolate', \"Price\" :55, \"Quant\":40, \"MFD\":'10-5-2021', \"Exp\":'10-11-2021'},\n",
    "    102336: { \"Name\" :'Hot chocolate', \"Price\" :75, \"Quant\":40, \"MFD\":'10-5-2021', \"Exp\":'10-11-2021'},\n",
    "    102337: { \"Name\" :'Hot chocolate', \"Price\" :95, \"Quant\":40, \"MFD\":'10-5-2021', \"Exp\":'10-11-2021'},\n",
    "    102338: { \"Name\" :'Hot chocolate', \"Price\" :155, \"Quant\":40, \"MFD\":'10-5-2021', \"Exp\":'10-11-2021'},\n",
    "    102339: { \"Name\" :'Bar-One', \"Price\" :10, \"Quant\":40, \"MFD\":'10-5-2021', \"Exp\":'10-11-2021'},\n",
    "    102340: { \"Name\" :'Bar-One', \"Price\" :15, \"Quant\":40, \"MFD\":'10-5-2021', \"Exp\":'10-11-2021'},\n",
    "    102341: { \"Name\" :'Bar-One', \"Price\" :20, \"Quant\":40, \"MFD\":'10-5-2021', \"Exp\":'10-11-2021'},\n",
    "    102342: { \"Name\" :'Bar-One', \"Price\" :25, \"Quant\":40, \"MFD\":'10-5-2021', \"Exp\":'10-11-2021'},\n",
    "    102343: { \"Name\" :'Raffaello', \"Price\" :35, \"Quant\":40, \"MFD\":'10-5-2021', \"Exp\":'10-11-2021'},\n",
    "    102344: { \"Name\" :'Raffaello', \"Price\" :45, \"Quant\":40, \"MFD\":'10-5-2021', \"Exp\":'10-11-2021'},\n",
    "    102345: { \"Name\" :'Raffaello', \"Price\" :55, \"Quant\":40, \"MFD\":'10-5-2021', \"Exp\":'10-11-2021'},\n",
    "    102346: { \"Name\" :'Raffaello', \"Price\" :65, \"Quant\":40, \"MFD\":'10-5-2021', \"Exp\":'10-11-2021'},\n",
    "    102347: { \"Name\" :'Almond Bar', \"Price\" :35, \"Quant\":40, \"MFD\":'10-5-2021', \"Exp\":'10-11-2021'},\n",
    "    102348: { \"Name\" :'Almond Bar', \"Price\" :55, \"Quant\":40, \"MFD\":'10-5-2021', \"Exp\":'10-11-2021'},\n",
    "    102349: { \"Name\" :'Almond Bar', \"Price\" :85, \"Quant\":40, \"MFD\":'10-5-2021', \"Exp\":'10-11-2021'},\n",
    "    102350: { \"Name\" :'Almond Bar', \"Price\" :100, \"Quant\":40, \"MFD\":'10-5-2021', \"Exp\":'10-11-2021'},\n",
    "}"
   ]
  },
  {
   "cell_type": "code",
   "execution_count": 4,
   "id": "ef4d8cb7",
   "metadata": {},
   "outputs": [],
   "source": [
    "js=json.dumps(Product)"
   ]
  },
  {
   "cell_type": "code",
   "execution_count": 5,
   "id": "3c30d251",
   "metadata": {},
   "outputs": [],
   "source": [
    "fd=open('Product.json','w')\n",
    "fd.write(js)\n",
    "fd.close()"
   ]
  },
  {
   "cell_type": "code",
   "execution_count": 6,
   "id": "8494320d",
   "metadata": {},
   "outputs": [],
   "source": [
    "fd = open(\"Product.json\",'r')\n",
    "txt=fd.read()\n",
    "fd.close()"
   ]
  },
  {
   "cell_type": "code",
   "execution_count": 15,
   "id": "d5999ef6",
   "metadata": {},
   "outputs": [],
   "source": [
    "Product=json.loads(txt)"
   ]
  },
  {
   "cell_type": "code",
   "execution_count": 19,
   "id": "9a1fc9cc",
   "metadata": {},
   "outputs": [
    {
     "name": "stdout",
     "output_type": "stream",
     "text": [
      "\n",
      "MENU:\n",
      "1. Buy a Product\n",
      "2. End the Purchase\n",
      "Enter your choice: 1\n",
      "Enter a Product ID between the range(102320-102350) : 102321\n",
      "KitKat\n",
      "20\n",
      "10-5-2021\n",
      "10-11-2021\n",
      "Enter the Product Quantity : 20\n"
     ]
    },
    {
     "ename": "KeyError",
     "evalue": "'102321'",
     "output_type": "error",
     "traceback": [
      "\u001b[1;31m---------------------------------------------------------------------------\u001b[0m",
      "\u001b[1;31mKeyError\u001b[0m                                  Traceback (most recent call last)",
      "\u001b[1;32m<ipython-input-19-0139b5add07d>\u001b[0m in \u001b[0;36m<module>\u001b[1;34m\u001b[0m\n\u001b[0;32m     16\u001b[0m                 \u001b[0mProduct\u001b[0m\u001b[1;33m[\u001b[0m\u001b[0mpid\u001b[0m\u001b[1;33m]\u001b[0m\u001b[1;33m[\u001b[0m\u001b[1;34m'Quant'\u001b[0m\u001b[1;33m]\u001b[0m\u001b[1;33m=\u001b[0m\u001b[0mint\u001b[0m\u001b[1;33m(\u001b[0m\u001b[0mProduct\u001b[0m\u001b[1;33m[\u001b[0m\u001b[0mpid\u001b[0m\u001b[1;33m]\u001b[0m\u001b[1;33m[\u001b[0m\u001b[1;34m'Quant'\u001b[0m\u001b[1;33m]\u001b[0m\u001b[1;33m)\u001b[0m\u001b[1;33m-\u001b[0m\u001b[0mquant\u001b[0m\u001b[1;33m\u001b[0m\u001b[1;33m\u001b[0m\u001b[0m\n\u001b[0;32m     17\u001b[0m                 \u001b[0mamount\u001b[0m\u001b[1;33m=\u001b[0m\u001b[0mamount\u001b[0m\u001b[1;33m+\u001b[0m\u001b[0mprice\u001b[0m\u001b[1;33m\u001b[0m\u001b[1;33m\u001b[0m\u001b[0m\n\u001b[1;32m---> 18\u001b[1;33m                 \u001b[0mpurchase\u001b[0m\u001b[1;33m[\u001b[0m\u001b[0mpid\u001b[0m\u001b[1;33m]\u001b[0m\u001b[1;33m[\u001b[0m\u001b[1;34m'name'\u001b[0m\u001b[1;33m]\u001b[0m\u001b[1;33m=\u001b[0m\u001b[0mProduct\u001b[0m\u001b[1;33m[\u001b[0m\u001b[0mpid\u001b[0m\u001b[1;33m]\u001b[0m\u001b[1;33m[\u001b[0m\u001b[1;34m'Name'\u001b[0m\u001b[1;33m]\u001b[0m\u001b[1;33m\u001b[0m\u001b[1;33m\u001b[0m\u001b[0m\n\u001b[0m\u001b[0;32m     19\u001b[0m                 \u001b[0mpurchase\u001b[0m\u001b[1;33m[\u001b[0m\u001b[0mpid\u001b[0m\u001b[1;33m]\u001b[0m\u001b[1;33m[\u001b[0m\u001b[1;34m'price'\u001b[0m\u001b[1;33m]\u001b[0m\u001b[1;33m=\u001b[0m\u001b[0mProduct\u001b[0m\u001b[1;33m[\u001b[0m\u001b[0mpid\u001b[0m\u001b[1;33m]\u001b[0m\u001b[1;33m[\u001b[0m\u001b[1;34m'Price'\u001b[0m\u001b[1;33m]\u001b[0m\u001b[1;33m\u001b[0m\u001b[1;33m\u001b[0m\u001b[0m\n\u001b[0;32m     20\u001b[0m             \u001b[1;32melse\u001b[0m\u001b[1;33m:\u001b[0m\u001b[1;33m\u001b[0m\u001b[1;33m\u001b[0m\u001b[0m\n",
      "\u001b[1;31mKeyError\u001b[0m: '102321'"
     ]
    }
   ],
   "source": [
    "fpurchase={}\n",
    "purchase={}\n",
    "amount=0\n",
    "while(True):\n",
    "    ch=input(\"\\nMENU:\\n1. Buy a Product\\n2. End the Purchase\\nEnter your choice: \")\n",
    "    if(ch=='1'):\n",
    "            pid=input(\"Enter a Product ID between the range(102320-102350) : \")\n",
    "            if(pid in Product):\n",
    "                price=Product[pid]['Price']\n",
    "                print(Product[pid]['Name'])\n",
    "                print(Product[pid]['Price'])\n",
    "                print(Product[pid]['MFD'])\n",
    "                print(Product[pid]['Exp'])\n",
    "                mfd=Product[pid]['MFD']\n",
    "                exp=Product[pid]['Exp']\n",
    "                quant=int(input(\"Enter the Product Quantity : \"))\n",
    "                Product[pid]['Quant']=int(Product[pid]['Quant'])-quant\n",
    "                amount=amount+price\n",
    "                purchase={pid:{'name':Product[pid]['Name']}}\n",
    "                fpurchase.update(purchase)\n",
    "            else:\n",
    "                print(\"*******************************\")\n",
    "                print(\"Please Enter a valid Product ID \")\n",
    "                print(\"*******************************\")\n",
    "    elif(ch=='2'):\n",
    "        break\n",
    "    else:\n",
    "        print(\"*******************************\")\n",
    "        print(\"Please Enter a valid choice\")\n",
    "        print(\"*******************************\")\n",
    "print(\"\\n******BILL******\")\n",
    "print(\"Product \",end=\"     \")\n",
    "print(\"Price \")\n",
    "for i in fpurchase:\n",
    "    print(i['name'],end=\"   \")\n",
    "    print(i['price'])"
   ]
  },
  {
   "cell_type": "code",
   "execution_count": null,
   "id": "437095ca",
   "metadata": {},
   "outputs": [],
   "source": []
  },
  {
   "cell_type": "code",
   "execution_count": null,
   "id": "e2459977",
   "metadata": {},
   "outputs": [],
   "source": []
  }
 ],
 "metadata": {
  "kernelspec": {
   "display_name": "Python 3",
   "language": "python",
   "name": "python3"
  },
  "language_info": {
   "codemirror_mode": {
    "name": "ipython",
    "version": 3
   },
   "file_extension": ".py",
   "mimetype": "text/x-python",
   "name": "python",
   "nbconvert_exporter": "python",
   "pygments_lexer": "ipython3",
   "version": "3.8.8"
  }
 },
 "nbformat": 4,
 "nbformat_minor": 5
}
